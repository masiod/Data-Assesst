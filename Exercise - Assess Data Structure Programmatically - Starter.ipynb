{
 "cells": [
  {
   "cell_type": "markdown",
   "id": "cd4d76d6",
   "metadata": {},
   "source": [
    "# Assess Data Structure Programmatically"
   ]
  },
  {
   "cell_type": "markdown",
   "id": "695eae32",
   "metadata": {},
   "source": [
    "In this exercise, you will perform a brief structural assessment of two datasets."
   ]
  },
  {
   "cell_type": "code",
   "execution_count": 1,
   "id": "7072b20c",
   "metadata": {},
   "outputs": [],
   "source": [
    "#Imports - DO NOT MODIFY\n",
    "import pandas as pd"
   ]
  },
  {
   "cell_type": "markdown",
   "id": "c0374d2f",
   "metadata": {},
   "source": [
    "## Dataset context\n",
    "\n",
    "Our dataset is the \"Hospital Annual Utilization Report data from the California Health and Human Services Open Data Portal, containing data on hopsital buildings. \n",
    "\n",
    "Columns' description (taken from https://data.chhs.ca.gov/dataset/hospital-building-data/resource/cefc10e5-5071-4ca4-8b03-2249caf0d294):\n",
    "\n",
    "- **County Code:** County number (set by State of California) and County Name\n",
    "- **Perm ID:**\tFacility number per Facilities Development Division\n",
    "- **Facility Name:** Name of the General Acute Care Hospital\n",
    "- **City:** City\n",
    "- **Building Nbr:** Unique building number assigned to seismically separate building in a hospital campus.\n",
    "- **Building Name:** Building name provided by the Facility.\n",
    "- **Building Status\tText:** Building Status.\t\n",
    "> If currently in service, status is \"In Service\". If under construction, status is \"Under Construction\". Other statuses are used to identify buildings that may be located in general acute care facility but do not provide general acute care services.\n",
    "- **SPC Rating\\*\tText:** SPC Rating\\* Structural Performance Category \n",
    "> It is used to rate the building structure, can be 1 to 5, “s” is added where the rating is not confirmed by HCAI. SPC 1 is assigned to buildings that may be at risk of collapse in a strong earthquake and SPC 5 is assigned to buildings reasonably capable of providing services to the public following strong ground motion. N/A = Not Applicable and NYA = Not Yet Available.\n",
    "- **Building URL:** A URL that oens the page associated with Building Nbr in the eServices Portal which provides access to related projects being constructed in the building.\n",
    "- **Height (ft):** Height in feet for the building where available\n",
    "\n",
    "Let's take a look at the first few rows of the data."
   ]
  },
  {
   "cell_type": "code",
   "execution_count": null,
   "id": "222fcc17",
   "metadata": {},
   "outputs": [],
   "source": [
    "# DO NOT MODIFY - read the .csv file\n",
    "ospd_data = pd.read_csv('ca-oshpd-gachospital-hospitalbuildingdata-03092023.csv')"
   ]
  },
  {
   "cell_type": "code",
   "execution_count": null,
   "id": "feaeb505",
   "metadata": {},
   "outputs": [],
   "source": [
    "# FILL IN - show the first a few rows of the dataframe"
   ]
  },
  {
   "cell_type": "markdown",
   "id": "ea8c5582",
   "metadata": {},
   "source": [
    "## 1. Inspect the data tidiness\n",
    "\n",
    "During our data tidiness investigation, we will look at the application of the following rules:\n",
    "\n",
    "- Every column is a variable.\n",
    "- Every row is an observation.\n",
    "- Every cell is a single value.\n",
    "\n",
    "We can see our dataset is clearly formatted with the column names accepted as the header, each row consisting of a single observation, and the cells in the dataset being single values. But looking into the dataset, we can notice a number of issues. Below, you will find three issues related to data tidiness and investigate them programmatically below."
   ]
  },
  {
   "cell_type": "markdown",
   "id": "4de229ac",
   "metadata": {},
   "source": [
    "### 1.1 Investigate the `Building Code` \n",
    "\n",
    "Investigate the `Building Code` column programmatically using the `.describe()` and `.value_counts()` functionality. What are the kinds of values in this column and how could we tidy this? Hint: Think about the \"Multiple variables stored in one column\" guideline.\t"
   ]
  },
  {
   "cell_type": "code",
   "execution_count": null,
   "id": "db767360",
   "metadata": {},
   "outputs": [],
   "source": [
    "#FILL IN - describe the data"
   ]
  },
  {
   "cell_type": "code",
   "execution_count": null,
   "id": "9dec9df9",
   "metadata": {},
   "outputs": [],
   "source": [
    "#FILL IN - use .value_counts() on the data"
   ]
  },
  {
   "cell_type": "markdown",
   "id": "68b3a20a",
   "metadata": {},
   "source": [
    "*FILL IN explanation:* ..."
   ]
  },
  {
   "cell_type": "markdown",
   "id": "98c815a2",
   "metadata": {},
   "source": [
    "### 1.2 Investigate unnecessary values\n",
    "Which variable adds no value to the data that we could remove from the dataframe? Hint: Use the `describe()` function."
   ]
  },
  {
   "cell_type": "code",
   "execution_count": null,
   "id": "10f1c370",
   "metadata": {},
   "outputs": [],
   "source": [
    "#Fill in\n",
    "#Describe the dataset"
   ]
  },
  {
   "cell_type": "markdown",
   "id": "daaf0350",
   "metadata": {},
   "source": [
    "*FILL IN explanation*: ..."
   ]
  },
  {
   "cell_type": "markdown",
   "id": "4a91b6e4",
   "metadata": {},
   "source": [
    "### 1.3 Investigate different observational units\n",
    "\n",
    "Do you see cases of multiple observational units being stored in a single table in the dataset? Inspect the dataframe visually by looking at the first few rows of the dataframe, and programmatically by checking the number of unique values for the dataframe. Explain how we could mitigate this duplication by having two seperate tables.\n",
    "\n",
    "**Note:** Here, we are asking you to think about how you would separate the data into two separate entities/dataframes/tables, rather than looking at repetitive values accross columns in the original dataframe."
   ]
  },
  {
   "cell_type": "code",
   "execution_count": null,
   "id": "66bbcbbc",
   "metadata": {},
   "outputs": [],
   "source": [
    "#FILL IN - print first 10 rows of dataframe"
   ]
  },
  {
   "cell_type": "code",
   "execution_count": null,
   "id": "3318648f",
   "metadata": {},
   "outputs": [],
   "source": [
    "#FILL IN\n",
    "#Find number of unique values using .unique()"
   ]
  },
  {
   "cell_type": "markdown",
   "id": "f224d935",
   "metadata": {},
   "source": [
    "*FILL IN explanation*: ..."
   ]
  }
 ],
 "metadata": {
  "kernelspec": {
   "display_name": "Python 3 (ipykernel)",
   "language": "python",
   "name": "python3"
  },
  "language_info": {
   "codemirror_mode": {
    "name": "ipython",
    "version": 3
   },
   "file_extension": ".py",
   "mimetype": "text/x-python",
   "name": "python",
   "nbconvert_exporter": "python",
   "pygments_lexer": "ipython3",
   "version": "3.10.10"
  }
 },
 "nbformat": 4,
 "nbformat_minor": 5
}
