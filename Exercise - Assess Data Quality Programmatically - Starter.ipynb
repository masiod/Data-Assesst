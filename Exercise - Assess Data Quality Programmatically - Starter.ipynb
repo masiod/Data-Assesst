{
 "cells": [
  {
   "cell_type": "markdown",
   "id": "cd4d76d6",
   "metadata": {},
   "source": [
    "# Assess Data Quality Programmatically"
   ]
  },
  {
   "cell_type": "markdown",
   "id": "695eae32",
   "metadata": {},
   "source": [
    "In this exercise, you will perform a programatic assessment of U.S. Bureau of Labor Statistics' \"Occupational Employment and Wage Statistics (OEWS) Research Estimates by State and Industry\". This dataset contains data on manager role occupations and the hourly wage. \n",
    "\n",
    "You will be assessing this data for **completeness** and **consistency**.\n",
    "\n",
    "As a supplementary dataset, you are provided with an additional dataset, the 2021 1-year ACS PUMS dataset, to validate the data quality issues against."
   ]
  },
  {
   "cell_type": "code",
   "execution_count": 1,
   "id": "7072b20c",
   "metadata": {},
   "outputs": [],
   "source": [
    "#DO NOT MODIFY - imports\n",
    "import pandas as pd\n",
    "import numpy as np"
   ]
  },
  {
   "cell_type": "markdown",
   "id": "c0374d2f",
   "metadata": {},
   "source": [
    "## Datasets context\n",
    "\n",
    "### OEWS data (uncleaned)\n",
    "\n",
    "The OEWS dataset was gathered manually as a CSV from the U.S. Bureau of Labor Statistics' website. The data was narrowed down to specifically focus on the managerial domain.\n",
    "\n",
    "The dataset has a number of variables - there are four variables of significance to us:\n",
    "\n",
    "- AREA_TITLE: Area/location name, e.g. Alabama\n",
    "- OCC_CODE: The Standard Occupational Classification (SOC) code, e.g. 11-0000\n",
    "- OCC_TITLE: The Standard Occupational Classification (SOC) title, e.g. Management Occupations\n",
    "- H_MEAN: The mean hourly wage of the worker, e.g. 61.13\n",
    "\n",
    "### PUMS data (cleaned)\n",
    "\n",
    "The PUMS dataset was downloaded via the Census Data API from the United Statest Census Bureau, and narrowed down for the Kern County - Bakersfield MSA, California area.\n",
    "\n",
    "Dataset variables and values:\n",
    "\n",
    "- WRK: Whether the individual worked last week\n",
    "    - 0: N/A (not reported)\n",
    "    - 1: Worked\n",
    "    - 2: Did not work\n",
    "- SEX: Sex (Male / Female) of the individual\n",
    "    - 1: Male\n",
    "    - 2: Female \n",
    "- SCOP: Standard Occupational Classification (SOC) codes for 2018 and later, based on the 2018 SOC codes"
   ]
  },
  {
   "cell_type": "code",
   "execution_count": null,
   "id": "222fcc17",
   "metadata": {},
   "outputs": [],
   "source": [
    "#DO NOT MODIFY\n",
    "#Read in the uncleaned excel file (note: will take a few minutes to load)\n",
    "oews_data = pd.read_excel('oes_research_2021_sec_55-56.xlsx')\n",
    "#Show the first few rows\n",
    "oews_data.head()"
   ]
  },
  {
   "cell_type": "code",
   "execution_count": null,
   "id": "e1ab80c3",
   "metadata": {},
   "outputs": [],
   "source": [
    "#DO NOT MODIFY\n",
    "#Read the cleaned .json file\n",
    "cleaned_pums = pd.read_csv('cleaned_pums_2021.csv')\n",
    "#Show the first few rows\n",
    "cleaned_pums.head()"
   ]
  },
  {
   "cell_type": "markdown",
   "id": "ea8c5582",
   "metadata": {},
   "source": [
    "## 1. Inspect the completeness\n",
    "\n",
    "In the first step, take a look at the completeness of the OEWS dataset, and identify any missing or incomplete values."
   ]
  },
  {
   "cell_type": "markdown",
   "id": "be623b59",
   "metadata": {},
   "source": [
    "### 1.1 Create a subset of the dataset \n",
    "Create a subset of the dataset to only include the required variables: `AREA_TITLE`, `OCC_CODE`, `OCC_TITLE`, `H_MEAN`. **Use this subset for all the following steps in this exercise.**\n",
    "\n",
    "Check if there are any NA values in the data programmatically using `isnull()`."
   ]
  },
  {
   "cell_type": "code",
   "execution_count": null,
   "id": "db767360",
   "metadata": {},
   "outputs": [],
   "source": [
    "#FILL IN - create a subset of the dataset\n",
    "#oews_data_subset = "
   ]
  },
  {
   "cell_type": "code",
   "execution_count": null,
   "id": "a123863a",
   "metadata": {},
   "outputs": [],
   "source": [
    "#FILL IN - check programmatically if there are NA values using isnull()\n",
    "#print(...)"
   ]
  },
  {
   "cell_type": "markdown",
   "id": "f45141ce",
   "metadata": {},
   "source": [
    "Are their null values based on your code results?\n",
    "\n",
    "Answer: (FILL IN)"
   ]
  },
  {
   "cell_type": "markdown",
   "id": "feef9ccd",
   "metadata": {},
   "source": [
    "### 1.2 Check the summary statistics\n",
    "Use the `.describe()` and `.info()` function to check the summary statistics for the OEWS dataset, specifically the `H_MEAN` variable. "
   ]
  },
  {
   "cell_type": "code",
   "execution_count": null,
   "id": "6ba20fbd",
   "metadata": {},
   "outputs": [],
   "source": [
    "#FILL IN - run the .describe() function"
   ]
  },
  {
   "cell_type": "code",
   "execution_count": null,
   "id": "c5caec37",
   "metadata": {},
   "outputs": [],
   "source": [
    "#FILL IN - run the .info() function"
   ]
  },
  {
   "cell_type": "markdown",
   "id": "ed162ebf",
   "metadata": {},
   "source": [
    "Are their null values based on your code results? Did you notice anything strange in `H-MEAN`?\n",
    "\n",
    "Answer: (FILL IN)"
   ]
  },
  {
   "cell_type": "markdown",
   "id": "0060826d",
   "metadata": {},
   "source": [
    "### 1.3 Look into the dtype of the dataset.\n",
    "There are a couple of things to notice.\n",
    "1. The `H_MEAN` variable should be a numerical dtype (i.e., 'float64'), but is instead an object. \n",
    "2. Using the `.describe()`, we see the `*` sign under `H_MEAN`, which indicates a wage estimate is **not available** - hence, it should be a NaN value, even though it isn't phrased as such. \n",
    "\n",
    "To solve this issue, replace the `*` sign in `H_MEAN` with a `np.NaN` object for the `H_MEAN` variable using `.replace()`."
   ]
  },
  {
   "cell_type": "code",
   "execution_count": null,
   "id": "383bbc42",
   "metadata": {},
   "outputs": [],
   "source": [
    "#DO NOT MODIFY\n",
    "#Disable chained assignments\n",
    "#Objective: Silences warnings when operating on slices of dataframes\n",
    "#for the purposes of this exercise\n",
    "pd.options.mode.chained_assignment = None "
   ]
  },
  {
   "cell_type": "code",
   "execution_count": null,
   "id": "9a42511e",
   "metadata": {},
   "outputs": [],
   "source": [
    "#FILL IN\n",
    "#Replace the * sign with np.nan"
   ]
  },
  {
   "cell_type": "markdown",
   "id": "97303384",
   "metadata": {},
   "source": [
    "### 1.4 Check the number of NA values again\n",
    "Now, check the NA values in in the OEWS dataset again"
   ]
  },
  {
   "cell_type": "code",
   "execution_count": null,
   "id": "48e11f55",
   "metadata": {},
   "outputs": [],
   "source": [
    "#Check number of NA values in OEWS data\n",
    "#print(...)"
   ]
  },
  {
   "cell_type": "markdown",
   "id": "40b59e19",
   "metadata": {},
   "source": [
    "Are there null values from your results right now? If yes, how many?\n",
    "\n",
    "Answer: (FILL IN)"
   ]
  },
  {
   "cell_type": "markdown",
   "id": "e3f31259",
   "metadata": {},
   "source": [
    "## 2. Inspect the consistency"
   ]
  },
  {
   "cell_type": "markdown",
   "id": "8fdfb445",
   "metadata": {},
   "source": [
    "Check for consistency between the OEWS and PUMS data for the `AREA_TITLE` and `OCC_CODE`/`SOCP` variables, and answer the following questions."
   ]
  },
  {
   "cell_type": "markdown",
   "id": "1ddb52be",
   "metadata": {},
   "source": [
    "### 2.1 Is the Area consistent between the two datasets? \n",
    "**Note**: Recall that the PUMS dataset **only** contains data for the Kern County - Bakersfield MSA, California area.\n",
    "\n",
    "Is the Area consistent between the two datasets? Use the `.head()` function, and optionally `.describe()` and `.info()`."
   ]
  },
  {
   "cell_type": "code",
   "execution_count": null,
   "id": "7f86eb79",
   "metadata": {},
   "outputs": [],
   "source": [
    "#FILL IN - inspect the head of the OEWS dataframe"
   ]
  },
  {
   "cell_type": "code",
   "execution_count": null,
   "id": "f5077bc8",
   "metadata": {},
   "outputs": [],
   "source": [
    "#FILL IN - inspect the head of the PUMS dataframe"
   ]
  },
  {
   "cell_type": "markdown",
   "id": "ca35c6fc",
   "metadata": {},
   "source": [
    "Answer: (FILL IN)"
   ]
  },
  {
   "cell_type": "markdown",
   "id": "b94d6674",
   "metadata": {},
   "source": [
    "### 2.2. Are the occupation codes consistent?\n",
    "\n",
    "Are the occupation codes consistent between the two datasets (`OCC_CODE` and `SOCP`)? Use the `.sample()` function to pull a few random samples from the dataset. What is the difference, if any?"
   ]
  },
  {
   "cell_type": "code",
   "execution_count": null,
   "id": "1c049b92",
   "metadata": {},
   "outputs": [],
   "source": [
    "#FILL IN\n",
    "#Pull a few random samples from the OEWS dataframe, indexed on OCC_CODE"
   ]
  },
  {
   "cell_type": "code",
   "execution_count": null,
   "id": "5acf23f5",
   "metadata": {},
   "outputs": [],
   "source": [
    "#FILL IN\n",
    "#Pull a few random samples from the cleaned_pums dataframe, indexed on SOCP"
   ]
  },
  {
   "cell_type": "markdown",
   "id": "7fe27831",
   "metadata": {},
   "source": [
    "Answer: (FILL IN)"
   ]
  }
 ],
 "metadata": {
  "kernelspec": {
   "display_name": "Python 3 (ipykernel)",
   "language": "python",
   "name": "python3"
  },
  "language_info": {
   "codemirror_mode": {
    "name": "ipython",
    "version": 3
   },
   "file_extension": ".py",
   "mimetype": "text/x-python",
   "name": "python",
   "nbconvert_exporter": "python",
   "pygments_lexer": "ipython3",
   "version": "3.10.10"
  }
 },
 "nbformat": 4,
 "nbformat_minor": 5
}
