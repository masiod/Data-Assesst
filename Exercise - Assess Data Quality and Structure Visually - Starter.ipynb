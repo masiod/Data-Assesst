{
 "cells": [
  {
   "cell_type": "markdown",
   "id": "e6cccdc6",
   "metadata": {},
   "source": [
    "# Exercise - Assess Data Quality and Structure Visually\n",
    "\n",
    "In this exercise, we will be looking at synthetic phase two clinical trial dataset of 350 patients for a new innovative oral insulin called **Auralin** - a proprietary capsule that can solve a stomach lining problem. \n",
    "\n",
    "**Note:** Auralin and Novodra are not real insulin products. This clinical trial data was fabricated for the sake of this course. When assessing this data, the issues that you'll detect (and later clean) are meant to simulate real-world data quality and tidiness issues with the capability to **impact quality of care, patient registration, and revenue**. The datasets, `patients` and `treatments`, were constructed with the consultation of real doctors to ensure plausibility."
   ]
  },
  {
   "cell_type": "code",
   "execution_count": null,
   "id": "3fae450b",
   "metadata": {},
   "outputs": [],
   "source": [
    "#DO NOT MODIFY - imports and loaing data\n",
    "import pandas as pd\n",
    "\n",
    "patients = pd.read_csv('patients.csv')\n",
    "treatments = pd.read_csv('treatments.csv')"
   ]
  },
  {
   "cell_type": "markdown",
   "id": "1fdb23ca",
   "metadata": {},
   "source": [
    "## 1. Identify data quality issues in the patients data"
   ]
  },
  {
   "cell_type": "markdown",
   "id": "f95b3802",
   "metadata": {},
   "source": [
    "The `patients` dataframe contains the following variables:\n",
    "\n",
    "- **patient_id**: the unique identifier for each patient\n",
    "- **assigned_sex**: the assigned sex of each patient at birth (male or female)\n",
    "- **given_name**: the given name (i.e. first name) of each patient\n",
    "- **surname**: the surname (i.e. last name) of each patient\n",
    "- **address**: the main address for each patient\n",
    "- **city**: the corresponding city for the main address of each patient\n",
    "- **state**: the corresponding state for the main address of each patient\n",
    "- **zip_code**: the corresponding zip code for the main address of each patient\n",
    "- **country**: the corresponding country for the main address of each patient (all United states for this clinical trial)\n",
    "- **contact**: phone number and email information for each patient\n",
    "- **birthdate**: the date of birth of each patient (month/day/year).\n",
    "> The [inclusion criteria](https://en.wikipedia.org/wiki/Inclusion_and_exclusion_criteria) for this clinical trial is  age >= 18 *(there is no maximum age because diabetes is a [growing problem](http://www.diabetes.co.uk/diabetes-and-the-elderly.html) among the elderly population)*\n",
    "- **weight**: the weight of each patient in pounds (lbs)\n",
    "- **height**: the height of each patient in inches (in)\n",
    "- **bmi**: the Body Mass Index (BMI) of each patient. \n",
    "> BMI is a simple calculation using a person's height and weight. The formula is BMI = kg/m<sup>2</sup> where kg is a person's weight in kilograms and m<sup>2</sup> is their height in metres squared. A BMI of 25.0 or more is overweight, while the healthy range is 18.5 to 24.9. *The [inclusion criteria](https://en.wikipedia.org/wiki/Inclusion_and_exclusion_criteria) for this clinical trial is 16 >= BMI >= 38.*"
   ]
  },
  {
   "cell_type": "markdown",
   "id": "b5292fed",
   "metadata": {},
   "source": [
    "### 1.1 Display dataset\n",
    "\n",
    "Display the first 10 rows of the patients data, and visually inspect the data, using directed and non-directed visual assessment as you see necessary. \n",
    "\n",
    "Identify **four** instances of problematic data points corresponding to **accuracy** and **validity** in the patients dataset.\n",
    "\n",
    "**Hint**: take a look at the `given_name`, `zip_code`, and `height` columns. "
   ]
  },
  {
   "cell_type": "code",
   "execution_count": null,
   "id": "b99d6ff6",
   "metadata": {},
   "outputs": [],
   "source": [
    "#FILL IN - inspect the first 10 rows of the patients data\n",
    "\n"
   ]
  },
  {
   "cell_type": "code",
   "execution_count": null,
   "id": "4fe59a20",
   "metadata": {},
   "outputs": [],
   "source": [
    "#FILL IN - More code if needed"
   ]
  },
  {
   "cell_type": "markdown",
   "id": "e56e3e51",
   "metadata": {},
   "source": [
    "### 1.2 Identify issues\n",
    "\n",
    "FILL IN the identified issues. For each issue, denote the row and column where the issue takes place:\n",
    "\n",
    "- Issue 1 (Accuracy): Row ..., column ...  The issue is...\n",
    "- Issue 2 (Accuracy): Row ..., column ...  The issue is...\n",
    "- Issue 3 (Validity): Row ..., column ...  The issue is...\n",
    "- Issue 4 (Validity): Row ..., column ...  The issue is..."
   ]
  },
  {
   "cell_type": "markdown",
   "id": "c5360b1d",
   "metadata": {},
   "source": [
    "## 2. Identify data quality and structural issues in the treatments data\n",
    "\n",
    "Let's take a look at brief context around the `treatments` data:\n",
    "\n",
    "350 patients participated in this clinical trial. None of the patients were using **Novodra** (a popular injectable insulin) or **Auralin** (the oral insulin being researched) as their primary source of insulin before.  All were experiencing elevated HbA1c levels.\n",
    "> HbA1c stands for Hemoglobin A1c. The [HbA1c test](https://depts.washington.edu/uwcoe/healthtopics/diabetes.html) measures what the average blood sugar has been over the past three months. It is thus a powerful way to get an overall sense of how well diabetes has been controlled. Everyone with diabetes should have this test 2 to 4 times per year. Measured in %.\n",
    "\n",
    "All 350 patients were treated with Novodra to establish a baseline HbA1c level and insulin dose. After four weeks:\n",
    "- 175 patients switched to Auralin for 24 weeks\n",
    "- 175 patients continued using Novodra for 24 weeks\n",
    "\n",
    "`treatments` columns:\n",
    "- **given_name**: the given name of each patient in the Master Patient Index that took part in the clinical trial\n",
    "- **surname**: the surname of each patient in the Master Patient Index that took part in the clinical trial\n",
    "- **auralin**: the baseline median daily dose of insulin from the week prior to switching to Auralin (the number before the dash `-`) *and* the ending median daily dose of insulin at the end of the 24 weeks of treatment measured over the 24th week of treatment (the number after the dash `-`). Both are measured in units (shortform 'u'), which is the [international unit](https://en.wikipedia.org/wiki/International_unit) of measurement and the standard measurement for insulin.\n",
    "- **novodra**: same as above, except for patients that continued treatment with Novodra\n",
    "- **hba1c_start**: the patient's HbA1c level at the beginning of the first week of treatment.\n",
    "\n",
    "- **hba1c_end**: the patient's HbA1c level at the end of the last week of treatment.\n",
    "- **hba1c_change**: the change in the patient's HbA1c level from the start of treatment to the end, i.e., `hba1c_start - hba1c_end`."
   ]
  },
  {
   "cell_type": "markdown",
   "id": "a8b8f8b8",
   "metadata": {},
   "source": [
    "### 2.1 Display data\n",
    "\n",
    "Display the first 10 rows of the `treatments` data, and visually inspect the data. Identify 3 instances of problematic data quality issues corresponding to **completeness** and **consistency** in the dataset.\n",
    "\n",
    "Hints: \n",
    "- For the first completeness issue, recall that the size of each treatment arm was 175 patients in each for the Auralin and Novodra arms. How many records should we have in the dataset, and how many rows does the treatments data currently contain?\n",
    "- For the second completeness issue, take a look at the `hba1c_change` variable. Is there anything noticable about the values for this column? What could we do to mitigate this during cleaning?\n",
    "- For the consistency issue, take a look at the `given_name` and `surname` variables. How are these different from what we saw in the `patients` dataframe?"
   ]
  },
  {
   "cell_type": "code",
   "execution_count": null,
   "id": "efa3c6c0",
   "metadata": {},
   "outputs": [],
   "source": [
    "#FILL IN - inspect the first 10 rows of the treatments data\n"
   ]
  },
  {
   "cell_type": "code",
   "execution_count": null,
   "id": "15e0d163",
   "metadata": {},
   "outputs": [],
   "source": [
    "#FILL IN - calculate the number of rows in your data"
   ]
  },
  {
   "cell_type": "code",
   "execution_count": null,
   "id": "521f01c2",
   "metadata": {},
   "outputs": [],
   "source": [
    "#Fill in - More code if needed"
   ]
  },
  {
   "cell_type": "markdown",
   "id": "dfb60566",
   "metadata": {},
   "source": [
    "### 2.2. Identifiy issues\n",
    "\n",
    "FILL IN the identified issues. For each issue, denote the row and column where the issue takes place:\n",
    "\n",
    "- Issue 1 (Completeness): Row ..., column ....  The issue is...\n",
    "- Issue 2 (Completeness): Row ..., column ....  ...\n",
    "- Issue 3 (Consistency): Row ..., column ....  ..."
   ]
  },
  {
   "cell_type": "markdown",
   "id": "20ed4c89",
   "metadata": {},
   "source": [
    "### 2.3 Data structural issue \n",
    "\n",
    "Identify one data structural issue in the dataset - take a look at the `auralin` and `novodra` columns. Why are these variables causing a messy dataset (what rule of tidiness do they violate?), and how should they be structured instead?"
   ]
  },
  {
   "cell_type": "markdown",
   "id": "7fe6217f",
   "metadata": {},
   "source": [
    "*FILL IN*\n",
    "\n",
    "- Issue (Structural): ..."
   ]
  }
 ],
 "metadata": {
  "kernelspec": {
   "display_name": "Python 3 (ipykernel)",
   "language": "python",
   "name": "python3"
  },
  "language_info": {
   "codemirror_mode": {
    "name": "ipython",
    "version": 3
   },
   "file_extension": ".py",
   "mimetype": "text/x-python",
   "name": "python",
   "nbconvert_exporter": "python",
   "pygments_lexer": "ipython3",
   "version": "3.10.10"
  }
 },
 "nbformat": 4,
 "nbformat_minor": 5
}
